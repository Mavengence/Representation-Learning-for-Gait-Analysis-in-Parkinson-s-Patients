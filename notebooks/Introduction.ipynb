{
 "cells": [
  {
   "cell_type": "markdown",
   "metadata": {},
   "source": [
    "# Representation Learning For Gait Analysis in Parkinson’s Patients\n",
    "- Dataset of 290 participants\n",
    "- every participant did a 4 x 10 m walking test\n",
    "    - participants with Parkinson disease have a label of Hoehn and Yahr and UPDRS\n",
    "- Your task:\n",
    "    - develop a neural network e.g. Convolutional, LSTM etc.\n",
    "    - use an autoencoder and try to classify the healthy and sick participants\n",
    "        - train on healthy \n",
    "        - analyse reconstruction error for sick vs healthy \n",
    "        - maybe take latent representation of autoencoder and try to classify\n",
    "        - 1d convolution autoencoder\n",
    "    - map to healthy and sick \n",
    "    - map to UPDRS score(?)\n",
    "\n"
   ]
  },
  {
   "cell_type": "code",
   "execution_count": 56,
   "metadata": {},
   "outputs": [],
   "source": [
    "import matplotlib.pyplot as plt\n",
    "import numpy as np\n",
    "import pandas as pd\n",
    "from pathlib import Path\n",
    "from sklearn.model_selection import train_test_split\n",
    "from sklearn.linear_model import LogisticRegression\n",
    "from sklearn.ensemble import RandomForestClassifier\n",
    "from sklearn.metrics import accuracy_score\n",
    "import seaborn as sns\n",
    "import os"
   ]
  },
  {
   "cell_type": "code",
   "execution_count": 74,
   "metadata": {},
   "outputs": [
    {
     "data": {
      "text/html": [
       "<div>\n",
       "<style scoped>\n",
       "    .dataframe tbody tr th:only-of-type {\n",
       "        vertical-align: middle;\n",
       "    }\n",
       "\n",
       "    .dataframe tbody tr th {\n",
       "        vertical-align: top;\n",
       "    }\n",
       "\n",
       "    .dataframe thead th {\n",
       "        text-align: right;\n",
       "    }\n",
       "</style>\n",
       "<table border=\"1\" class=\"dataframe\">\n",
       "  <thead>\n",
       "    <tr style=\"text-align: right;\">\n",
       "      <th></th>\n",
       "      <th>STUD_Ganganalyse</th>\n",
       "      <th>Alter_bei_Studie</th>\n",
       "      <th>Geschlecht</th>\n",
       "      <th>Groesse_cm</th>\n",
       "      <th>Groesse_m</th>\n",
       "      <th>Gewicht_kg</th>\n",
       "      <th>BMI</th>\n",
       "      <th>Hoehn_Yahr</th>\n",
       "      <th>UPDRS_Motor_Scale</th>\n",
       "    </tr>\n",
       "  </thead>\n",
       "  <tbody>\n",
       "    <tr>\n",
       "      <td>0</td>\n",
       "      <td>GA111039</td>\n",
       "      <td>36</td>\n",
       "      <td>2</td>\n",
       "      <td>167</td>\n",
       "      <td>1.67</td>\n",
       "      <td>62.0</td>\n",
       "      <td>22.230987</td>\n",
       "      <td>1.0</td>\n",
       "      <td>7.0</td>\n",
       "    </tr>\n",
       "    <tr>\n",
       "      <td>1</td>\n",
       "      <td>GA112017</td>\n",
       "      <td>37</td>\n",
       "      <td>1</td>\n",
       "      <td>170</td>\n",
       "      <td>1.70</td>\n",
       "      <td>125.0</td>\n",
       "      <td>43.252595</td>\n",
       "      <td>2.0</td>\n",
       "      <td>30.0</td>\n",
       "    </tr>\n",
       "    <tr>\n",
       "      <td>2</td>\n",
       "      <td>GA114057</td>\n",
       "      <td>38</td>\n",
       "      <td>1</td>\n",
       "      <td>163</td>\n",
       "      <td>1.63</td>\n",
       "      <td>70.0</td>\n",
       "      <td>26.346494</td>\n",
       "      <td>2.0</td>\n",
       "      <td>15.0</td>\n",
       "    </tr>\n",
       "    <tr>\n",
       "      <td>3</td>\n",
       "      <td>GA412024</td>\n",
       "      <td>39</td>\n",
       "      <td>2</td>\n",
       "      <td>160</td>\n",
       "      <td>1.60</td>\n",
       "      <td>56.0</td>\n",
       "      <td>21.875000</td>\n",
       "      <td>1.0</td>\n",
       "      <td>7.0</td>\n",
       "    </tr>\n",
       "    <tr>\n",
       "      <td>4</td>\n",
       "      <td>GA310004</td>\n",
       "      <td>40</td>\n",
       "      <td>2</td>\n",
       "      <td>165</td>\n",
       "      <td>1.65</td>\n",
       "      <td>70.0</td>\n",
       "      <td>25.711662</td>\n",
       "      <td>3.0</td>\n",
       "      <td>25.0</td>\n",
       "    </tr>\n",
       "  </tbody>\n",
       "</table>\n",
       "</div>"
      ],
      "text/plain": [
       "  STUD_Ganganalyse  Alter_bei_Studie  Geschlecht  Groesse_cm  Groesse_m  \\\n",
       "0         GA111039                36           2         167       1.67   \n",
       "1         GA112017                37           1         170       1.70   \n",
       "2         GA114057                38           1         163       1.63   \n",
       "3         GA412024                39           2         160       1.60   \n",
       "4         GA310004                40           2         165       1.65   \n",
       "\n",
       "   Gewicht_kg        BMI  Hoehn_Yahr  UPDRS_Motor_Scale  \n",
       "0        62.0  22.230987         1.0                7.0  \n",
       "1       125.0  43.252595         2.0               30.0  \n",
       "2        70.0  26.346494         2.0               15.0  \n",
       "3        56.0  21.875000         1.0                7.0  \n",
       "4        70.0  25.711662         3.0               25.0  "
      ]
     },
     "execution_count": 74,
     "metadata": {},
     "output_type": "execute_result"
    }
   ],
   "source": [
    "data_path = Path('../data/raw_data')\n",
    "participant_labels = pd.read_csv(data_path.joinpath('Labels.csv'))\n",
    "participant_labels.head()"
   ]
  },
  {
   "cell_type": "code",
   "execution_count": 75,
   "metadata": {},
   "outputs": [],
   "source": [
    "example = next(data_path.iterdir())\n",
    "sensor_data = list(example.glob('*.csv'))\n",
    "#sensor_left.filter(like=\"acc_\").plot()"
   ]
  },
  {
   "cell_type": "code",
   "execution_count": 76,
   "metadata": {},
   "outputs": [],
   "source": [
    "participant_labels['labels'] = 0\n",
    "\n",
    "participant_labels['Hoehn_Yahr'] = participant_labels['Hoehn_Yahr'].replace(np.nan, 0.0)\n",
    "participant_labels['UPDRS_Motor_Scale'] = participant_labels['UPDRS_Motor_Scale'].replace(np.nan, 0.0)\n",
    "\n",
    "participant_labels.loc[(participant_labels['Hoehn_Yahr'] > 0.0) & (participant_labels['UPDRS_Motor_Scale'] > 0.0), \"labels\"] = 1"
   ]
  },
  {
   "cell_type": "code",
   "execution_count": 77,
   "metadata": {},
   "outputs": [],
   "source": [
    "participant_labels['Alter_bei_Studie_cut'] = pd.cut(x=participant_labels['Alter_bei_Studie'], \n",
    "                                                    bins=[30, 39, 49, 59, 69, 79, 89], \n",
    "                                                    labels=['30s', '40s', '50s', '60s', '70s', '80s'])\n",
    "\n",
    "participant_labels['Geschlecht'].replace({1: \"Male\", 2: \"Female\"}, inplace=True)"
   ]
  },
  {
   "cell_type": "code",
   "execution_count": 118,
   "metadata": {},
   "outputs": [
    {
     "data": {
      "image/png": "[encoded data removed]",
      "text/plain": [
       "<Figure size 576x432 with 1 Axes>"
      ]
     },
     "metadata": {
      "needs_background": "light"
     },
     "output_type": "display_data"
    }
   ],
   "source": [
    "plt.figure(figsize=(8,6))\n",
    "plt.title(\"Age and Gender Distribution\", fontsize=18)\n",
    "ax = sns.countplot(x=\"Alter_bei_Studie_cut\", data=participant_labels, hue=\"Geschlecht\", palette=\"Set2\")\n",
    "ax.set_xlabel(\"Age\", fontsize=16)\n",
    "ax.set_ylabel(\"Count\", fontsize=16)\n",
    "plt.legend(loc=\"upper left\", fontsize=16)\n",
    "plt.xticks(fontsize=15)\n",
    "plt.yticks(fontsize=15)\n",
    "plt.show()"
   ]
  },
  {
   "cell_type": "code",
   "execution_count": 10,
   "metadata": {},
   "outputs": [],
   "source": [
    "X_train, X_test, y_train, y_test = train_test_split(participant_labels['STUD_Ganganalyse'],\n",
    "                 participant_labels[\"labels\"],\n",
    "                 stratify=participant_labels[[\"labels\", \"Geschlecht\"]],\n",
    "                 test_size=0.2)\n",
    "\n",
    "assert ((y_train == 1).sum() / len(y_train)) - ((y_test == 1).sum() / len(y_test)) < 0.1"
   ]
  },
  {
   "cell_type": "code",
   "execution_count": 11,
   "metadata": {},
   "outputs": [
    {
     "name": "stdout",
     "output_type": "stream",
     "text": [
      "Missing CSV\n",
      "Missing CSV\n",
      "2 Users\n"
     ]
    }
   ],
   "source": [
    "train_df = pd.DataFrame()\n",
    "\n",
    "missing = 0\n",
    "count = 0\n",
    "\n",
    "for i, user in enumerate(X_train):\n",
    "    left_path = os.path.join(data_path, user, \"sensor_data_left.csv\")\n",
    "    right_path = os.path.join(data_path, user, \"sensor_data_right.csv\")\n",
    "        \n",
    "    try:\n",
    "        df_l = pd.read_csv(left_path).add_prefix(\"left_\").drop(columns=[\"left_Unnamed: 0\"])\n",
    "        df_r = pd.read_csv(left_path).add_prefix(\"right_\").drop(columns=[\"right_Unnamed: 0\"])\n",
    "    except:\n",
    "        missing += 1\n",
    "        print(\"Missing CSV\")\n",
    "    \n",
    "    if len(df_r) != len(df_l):\n",
    "        missing += 1\n",
    "        print(\"Not the same length\")\n",
    "        \n",
    "    else:\n",
    "        df_user = pd.concat([df_l, df_r], axis=1)\n",
    "        df_user['user_id'] = i\n",
    "        df_user['patient_id'] = user\n",
    "        df_user['patient_nr'] = count\n",
    "        train_df = train_df.append(df_user, ignore_index=True)\n",
    "        count += 1\n",
    "    \n",
    "print(f\"{missing} Users\")"
   ]
  },
  {
   "cell_type": "code",
   "execution_count": 12,
   "metadata": {},
   "outputs": [
    {
     "name": "stdout",
     "output_type": "stream",
     "text": [
      "0 Users\n"
     ]
    }
   ],
   "source": [
    "test_df = pd.DataFrame()\n",
    "\n",
    "missing = 0\n",
    "\n",
    "for i, user in enumerate(X_test):\n",
    "    left_path = os.path.join(data_path, user, \"sensor_data_left.csv\")\n",
    "    right_path = os.path.join(data_path, user, \"sensor_data_right.csv\")\n",
    "        \n",
    "    try:\n",
    "        df_l = pd.read_csv(left_path).add_prefix(\"left_\").drop(columns=[\"left_Unnamed: 0\"])\n",
    "        df_r = pd.read_csv(left_path).add_prefix(\"right_\").drop(columns=[\"right_Unnamed: 0\"])\n",
    "    except:\n",
    "        try:\n",
    "            df_l = pd.read_csv(left_path).add_prefix(\"left_\")\n",
    "            df_r = pd.read_csv(left_path).add_prefix(\"right_\")\n",
    "        except:\n",
    "            missing += 1\n",
    "            print(\"Missing CSV\")\n",
    "    \n",
    "    if len(df_r) != len(df_l):\n",
    "        missing += 1\n",
    "        print(\"Not the same length\")\n",
    "        \n",
    "    else:\n",
    "        df_user = pd.concat([df_l, df_r], axis=1)\n",
    "        df_user['user_id'] = i\n",
    "        df_user['patient_id'] = user\n",
    "        df_user['patient_nr'] = count\n",
    "        test_df = test_df.append(df_user, ignore_index=True)\n",
    "        count += 1\n",
    "    \n",
    "print(f\"{missing} Users\")"
   ]
  },
  {
   "cell_type": "code",
   "execution_count": 13,
   "metadata": {},
   "outputs": [],
   "source": [
    "y_train = y_train.reset_index().drop(columns=\"index\")\n",
    "y_test = y_test.reset_index().drop(columns=\"index\")\n",
    "\n",
    "train_df['labels'] = train_df['user_id'].apply(lambda x: y_train.iloc[x]['labels'])\n",
    "test_df['labels'] = test_df['user_id'].apply(lambda x: y_test.iloc[x]['labels'])"
   ]
  },
  {
   "cell_type": "code",
   "execution_count": 14,
   "metadata": {},
   "outputs": [
    {
     "name": "stdout",
     "output_type": "stream",
     "text": [
      "Train_df: (1036564, 16)\n",
      "Test_df: (286899, 16)\n"
     ]
    }
   ],
   "source": [
    "print(f\"Train_df: {train_df.shape}\")\n",
    "print(f\"Test_df: {test_df.shape}\")"
   ]
  },
  {
   "cell_type": "code",
   "execution_count": 15,
   "metadata": {},
   "outputs": [
    {
     "name": "stdout",
     "output_type": "stream",
     "text": [
      "Successfully saved.\n"
     ]
    }
   ],
   "source": [
    "train_df.to_csv(\"train.csv\")\n",
    "test_df.to_csv(\"test.csv\")\n",
    "print(\"Successfully saved.\")"
   ]
  },
  {
   "cell_type": "code",
   "execution_count": 114,
   "metadata": {},
   "outputs": [
    {
     "name": "stderr",
     "output_type": "stream",
     "text": [
      "No handles with labels found to put in legend.\n"
     ]
    },
    {
     "data": {
      "image/png": "[encoded data removed]",
      "text/plain": [
       "<Figure size 720x432 with 1 Axes>"
      ]
     },
     "metadata": {
      "needs_background": "light"
     },
     "output_type": "display_data"
    }
   ],
   "source": [
    "plt.figure(figsize=(10,6))\n",
    "X = train_df[train_df[\"user_id\"] == 0].filter(like=\"acc_\")\n",
    "plt.plot(X)\n",
    "plt.title(\"Accerlation Features for Patient 1 - 4x10m\", fontsize=18)\n",
    "plt.xlabel(\"Timesteps\", fontsize=16)\n",
    "plt.ylabel(\"Accelerometer Output\", fontsize=16)\n",
    "plt.legend(loc=\"lower left\", fontsize=16)\n",
    "plt.xticks(fontsize=15)\n",
    "plt.yticks(fontsize=15)\n",
    "plt.show()"
   ]
  },
  {
   "cell_type": "code",
   "execution_count": 116,
   "metadata": {},
   "outputs": [],
   "source": [
    "X = pd.concat([train_df, test_df]).groupby([\"patient_nr\"]).count()[\"left_acc_x\"]"
   ]
  },
  {
   "cell_type": "code",
   "execution_count": 117,
   "metadata": {},
   "outputs": [
    {
     "name": "stderr",
     "output_type": "stream",
     "text": [
      "No handles with labels found to put in legend.\n"
     ]
    },
    {
     "data": {
      "image/png": "[encoded data removed]",
      "text/plain": [
       "<Figure size 576x432 with 1 Axes>"
      ]
     },
     "metadata": {
      "needs_background": "light"
     },
     "output_type": "display_data"
    }
   ],
   "source": [
    "plt.figure(figsize=(8,6))\n",
    "plt.title(\"Timeseries Patient Length Distribution\", fontsize=18)\n",
    "ax = sns.histplot(X, palette=\"Set2\")\n",
    "ax.set_xlabel(\"Rows\", fontsize=16)\n",
    "ax.set_ylabel(\"Count\", fontsize=16)\n",
    "plt.legend(loc=\"upper left\", fontsize=16)\n",
    "plt.xticks(fontsize=15)\n",
    "plt.yticks(fontsize=15)\n",
    "plt.show()"
   ]
  },
  {
   "cell_type": "markdown",
   "metadata": {},
   "source": [
    "## Planning and Execution:\n",
    "- use the provided git template to store and work on everything\n",
    "- make helpful comments so it is comprehensable why you made that decision \n",
    "- use git features like branches issue boards etc. to keep the overview over the current progress\n",
    "\n",
    "## Data Exploration, Training and more:\n",
    "- decide on the input factors \n",
    "- think about splitting the data into training and test sets\n",
    "- check if you work with an unbalanced data set\n",
    "- fit the data of each sensor such that the data length is equal \n",
    "- number of features in [autoencoder](https://towardsdatascience.com/generating-images-with-autoencoders-77fd3a8dd368)\n",
    "- [recipe for network training](http://karpathy.github.io/2019/04/25/recipe/)\n",
    "- think about masking \n",
    "- test different model configurations\n",
    "- decide what timeframe to use as input for each cell if recurrent network\n",
    "\n",
    "\n",
    "## Presentation of the Results:\n",
    "- short scientific report or a well maintained git repository with an explanatory jupyter notebook \n",
    "- in both cases: \n",
    "    - well designed visualisations with easy to understand labels\n",
    "    - comments in code that explain the decision making process for hyperparameters or batch sizes\n",
    "\n",
    "## Usage of RRZE accounts:\n",
    "- activate HPC in idm Portal\n",
    "- talk to other students \n",
    "- send GitHub introduction\n",
    "- invite to student slack\n",
    "\n",
    "## Division of Tasks:\n",
    "- how you split the workload is on you in the end both problems should be solved and documented\n",
    "\n"
   ]
  },
  {
   "cell_type": "markdown",
   "metadata": {},
   "source": [
    "# EDA"
   ]
  },
  {
   "cell_type": "code",
   "execution_count": 47,
   "metadata": {},
   "outputs": [],
   "source": [
    "map_train_df = train_df[[\"patient_nr\", \"patient_id\"]].drop_duplicates()\n",
    "map_test_df = test_df[[\"patient_nr\", \"patient_id\"]].drop_duplicates()\n",
    "\n",
    "agg_map_df = pd.merge(agg_df, map_train_df, left_on=\"STUD_Ganganalyse\", right_on=\"patient_id\", how=\"left\")\n",
    "agg_map_df = pd.merge(agg_map_df, map_test_df, left_on=\"STUD_Ganganalyse\", right_on=\"patient_id\", how=\"left\")\n",
    "\n",
    "agg_map_df[\"user_id\"] = (agg_map_df[\"patient_nr_x\"].replace(np.nan, 0) + agg_map_df[\"patient_nr_y\"].replace(np.nan, 0)).astype(int)\n",
    "\n",
    "agg_map_df = agg_map_df.drop(columns=[\"patient_id_x\", \"patient_nr_y\", \"patient_id_y\", \"patient_nr_x\"])"
   ]
  },
  {
   "cell_type": "code",
   "execution_count": 48,
   "metadata": {},
   "outputs": [],
   "source": [
    "meta_train_df = pd.DataFrame(train_df.groupby(\"user_id\").count()['labels'].sort_values(ascending=False)).reset_index()\n",
    "meta_train_df['user_id'] = meta_train_df['user_id'].astype(str)\n",
    "\n",
    "meta_test_df = pd.DataFrame(test_df.groupby(\"user_id\").count()['labels'].sort_values(ascending=False)).reset_index()\n",
    "meta_test_df['user_id'] = meta_test_df['user_id'].astype(int)"
   ]
  },
  {
   "cell_type": "code",
   "execution_count": 49,
   "metadata": {},
   "outputs": [],
   "source": [
    "meta_df = pd.concat([meta_train_df, meta_test_df], axis=0)\n",
    "meta_df[\"user_id\"] = meta_df[\"user_id\"].astype(int)"
   ]
  },
  {
   "cell_type": "code",
   "execution_count": 50,
   "metadata": {},
   "outputs": [],
   "source": [
    "batch_size = 256\n",
    "\n",
    "meta_df['batches'] = meta_df['labels'].apply(lambda x: int(int(x) / batch_size))"
   ]
  },
  {
   "cell_type": "code",
   "execution_count": 52,
   "metadata": {},
   "outputs": [],
   "source": [
    "merged_df = pd.merge(meta_df, agg_map_df, on=\"user_id\").drop_duplicates()"
   ]
  },
  {
   "cell_type": "code",
   "execution_count": 398,
   "metadata": {},
   "outputs": [],
   "source": [
    "merged_df['age_bins'] = pd.cut(x=merged_df['Alter_bei_Studie'], bins=[30, 40, 50, 60, 70, 80, 90])\n",
    "merged_df['m_bins'] = pd.cut(x=merged_df['Groesse_cm'], bins=[140, 150, 160, 170, 180, 190, 200])"
   ]
  },
  {
   "cell_type": "code",
   "execution_count": 399,
   "metadata": {},
   "outputs": [],
   "source": [
    "train_labels = train_df[[\"patient_id\", \"labels\"]].drop_duplicates()\n",
    "test_labels = test_df[[\"patient_id\", \"labels\"]].drop_duplicates()\n",
    "\n",
    "df_labels = pd.DataFrame(columns=[\"user_id\", \"y\"], data=np.concatenate([train_labels, test_labels], axis=0))\n",
    "#df_labels = df_labels['user_id'].astype(int)"
   ]
  },
  {
   "cell_type": "code",
   "execution_count": 400,
   "metadata": {},
   "outputs": [],
   "source": [
    "merged_df = pd.merge(merged_df, df_labels, left_on=\"STUD_Ganganalyse\", right_on=\"user_id\")\n",
    "merged_df = merged_df.drop(columns=[\"user_id_x\", \"user_id_y\", \"user_id_y\"])"
   ]
  },
  {
   "cell_type": "markdown",
   "metadata": {},
   "source": [
    "## Alters Vergleich\n",
    "\n",
    "> Starke Korrelation zwischen älter sein und mehr Einträge haben"
   ]
  },
  {
   "cell_type": "code",
   "execution_count": 402,
   "metadata": {
    "scrolled": false
   },
   "outputs": [
    {
     "data": {
      "text/html": [
       "<div>\n",
       "<style scoped>\n",
       "    .dataframe tbody tr th:only-of-type {\n",
       "        vertical-align: middle;\n",
       "    }\n",
       "\n",
       "    .dataframe tbody tr th {\n",
       "        vertical-align: top;\n",
       "    }\n",
       "\n",
       "    .dataframe thead th {\n",
       "        text-align: right;\n",
       "    }\n",
       "</style>\n",
       "<table border=\"1\" class=\"dataframe\">\n",
       "  <thead>\n",
       "    <tr style=\"text-align: right;\">\n",
       "      <th></th>\n",
       "      <th></th>\n",
       "      <th>labels</th>\n",
       "      <th>batches</th>\n",
       "      <th>Alter_bei_Studie</th>\n",
       "      <th>Groesse_cm</th>\n",
       "      <th>Geschlecht</th>\n",
       "    </tr>\n",
       "    <tr>\n",
       "      <th>age_bins</th>\n",
       "      <th>y</th>\n",
       "      <th></th>\n",
       "      <th></th>\n",
       "      <th></th>\n",
       "      <th></th>\n",
       "      <th></th>\n",
       "    </tr>\n",
       "  </thead>\n",
       "  <tbody>\n",
       "    <tr>\n",
       "      <td rowspan=\"2\" valign=\"top\">(30, 40]</td>\n",
       "      <td>0</td>\n",
       "      <td>NaN</td>\n",
       "      <td>NaN</td>\n",
       "      <td>NaN</td>\n",
       "      <td>NaN</td>\n",
       "      <td>NaN</td>\n",
       "    </tr>\n",
       "    <tr>\n",
       "      <td>1</td>\n",
       "      <td>4336.833333</td>\n",
       "      <td>16.333333</td>\n",
       "      <td>37.833333</td>\n",
       "      <td>164.166667</td>\n",
       "      <td>1.666667</td>\n",
       "    </tr>\n",
       "    <tr>\n",
       "      <td rowspan=\"2\" valign=\"top\">(40, 50]</td>\n",
       "      <td>0</td>\n",
       "      <td>3768.761905</td>\n",
       "      <td>14.333333</td>\n",
       "      <td>45.714286</td>\n",
       "      <td>176.047619</td>\n",
       "      <td>1.428571</td>\n",
       "    </tr>\n",
       "    <tr>\n",
       "      <td>1</td>\n",
       "      <td>4227.391304</td>\n",
       "      <td>16.086957</td>\n",
       "      <td>46.086957</td>\n",
       "      <td>179.173913</td>\n",
       "      <td>1.173913</td>\n",
       "    </tr>\n",
       "    <tr>\n",
       "      <td rowspan=\"2\" valign=\"top\">(50, 60]</td>\n",
       "      <td>0</td>\n",
       "      <td>3857.607143</td>\n",
       "      <td>14.678571</td>\n",
       "      <td>55.678571</td>\n",
       "      <td>169.321429</td>\n",
       "      <td>1.607143</td>\n",
       "    </tr>\n",
       "    <tr>\n",
       "      <td>1</td>\n",
       "      <td>4408.227273</td>\n",
       "      <td>16.750000</td>\n",
       "      <td>56.000000</td>\n",
       "      <td>174.159091</td>\n",
       "      <td>1.295455</td>\n",
       "    </tr>\n",
       "    <tr>\n",
       "      <td rowspan=\"2\" valign=\"top\">(60, 70]</td>\n",
       "      <td>0</td>\n",
       "      <td>4555.576923</td>\n",
       "      <td>17.269231</td>\n",
       "      <td>66.807692</td>\n",
       "      <td>167.692308</td>\n",
       "      <td>1.576923</td>\n",
       "    </tr>\n",
       "    <tr>\n",
       "      <td>1</td>\n",
       "      <td>4534.684211</td>\n",
       "      <td>17.157895</td>\n",
       "      <td>66.263158</td>\n",
       "      <td>171.596491</td>\n",
       "      <td>1.350877</td>\n",
       "    </tr>\n",
       "    <tr>\n",
       "      <td rowspan=\"2\" valign=\"top\">(70, 80]</td>\n",
       "      <td>0</td>\n",
       "      <td>4708.952381</td>\n",
       "      <td>17.857143</td>\n",
       "      <td>73.142857</td>\n",
       "      <td>169.904762</td>\n",
       "      <td>1.476190</td>\n",
       "    </tr>\n",
       "    <tr>\n",
       "      <td>1</td>\n",
       "      <td>4764.135593</td>\n",
       "      <td>18.169492</td>\n",
       "      <td>74.271186</td>\n",
       "      <td>170.322034</td>\n",
       "      <td>1.322034</td>\n",
       "    </tr>\n",
       "    <tr>\n",
       "      <td rowspan=\"2\" valign=\"top\">(80, 90]</td>\n",
       "      <td>0</td>\n",
       "      <td>6499.000000</td>\n",
       "      <td>25.000000</td>\n",
       "      <td>82.750000</td>\n",
       "      <td>162.000000</td>\n",
       "      <td>1.500000</td>\n",
       "    </tr>\n",
       "    <tr>\n",
       "      <td>1</td>\n",
       "      <td>10295.333333</td>\n",
       "      <td>39.666667</td>\n",
       "      <td>82.333333</td>\n",
       "      <td>173.666667</td>\n",
       "      <td>1.000000</td>\n",
       "    </tr>\n",
       "  </tbody>\n",
       "</table>\n",
       "</div>"
      ],
      "text/plain": [
       "                  labels    batches  Alter_bei_Studie  Groesse_cm  Geschlecht\n",
       "age_bins y                                                                   \n",
       "(30, 40] 0           NaN        NaN               NaN         NaN         NaN\n",
       "         1   4336.833333  16.333333         37.833333  164.166667    1.666667\n",
       "(40, 50] 0   3768.761905  14.333333         45.714286  176.047619    1.428571\n",
       "         1   4227.391304  16.086957         46.086957  179.173913    1.173913\n",
       "(50, 60] 0   3857.607143  14.678571         55.678571  169.321429    1.607143\n",
       "         1   4408.227273  16.750000         56.000000  174.159091    1.295455\n",
       "(60, 70] 0   4555.576923  17.269231         66.807692  167.692308    1.576923\n",
       "         1   4534.684211  17.157895         66.263158  171.596491    1.350877\n",
       "(70, 80] 0   4708.952381  17.857143         73.142857  169.904762    1.476190\n",
       "         1   4764.135593  18.169492         74.271186  170.322034    1.322034\n",
       "(80, 90] 0   6499.000000  25.000000         82.750000  162.000000    1.500000\n",
       "         1  10295.333333  39.666667         82.333333  173.666667    1.000000"
      ]
     },
     "execution_count": 402,
     "metadata": {},
     "output_type": "execute_result"
    }
   ],
   "source": [
    "merged_df.groupby([\"age_bins\", \"y\"]).mean()[]"
   ]
  },
  {
   "cell_type": "markdown",
   "metadata": {},
   "source": [
    "## Körpergrößen Vergleich\n",
    "\n",
    "> Ziemlich Zufällig"
   ]
  },
  {
   "cell_type": "code",
   "execution_count": 403,
   "metadata": {},
   "outputs": [
    {
     "data": {
      "text/html": [
       "<div>\n",
       "<style scoped>\n",
       "    .dataframe tbody tr th:only-of-type {\n",
       "        vertical-align: middle;\n",
       "    }\n",
       "\n",
       "    .dataframe tbody tr th {\n",
       "        vertical-align: top;\n",
       "    }\n",
       "\n",
       "    .dataframe thead th {\n",
       "        text-align: right;\n",
       "    }\n",
       "</style>\n",
       "<table border=\"1\" class=\"dataframe\">\n",
       "  <thead>\n",
       "    <tr style=\"text-align: right;\">\n",
       "      <th></th>\n",
       "      <th></th>\n",
       "      <th>labels</th>\n",
       "      <th>batches</th>\n",
       "      <th>Alter_bei_Studie</th>\n",
       "      <th>Groesse_cm</th>\n",
       "      <th>Geschlecht</th>\n",
       "    </tr>\n",
       "    <tr>\n",
       "      <th>m_bins</th>\n",
       "      <th>y</th>\n",
       "      <th></th>\n",
       "      <th></th>\n",
       "      <th></th>\n",
       "      <th></th>\n",
       "      <th></th>\n",
       "    </tr>\n",
       "  </thead>\n",
       "  <tbody>\n",
       "    <tr>\n",
       "      <td rowspan=\"2\" valign=\"top\">(140, 150]</td>\n",
       "      <td>0</td>\n",
       "      <td>NaN</td>\n",
       "      <td>NaN</td>\n",
       "      <td>NaN</td>\n",
       "      <td>NaN</td>\n",
       "      <td>NaN</td>\n",
       "    </tr>\n",
       "    <tr>\n",
       "      <td>1</td>\n",
       "      <td>2372.500000</td>\n",
       "      <td>9.000000</td>\n",
       "      <td>69.500000</td>\n",
       "      <td>150.000000</td>\n",
       "      <td>2.000000</td>\n",
       "    </tr>\n",
       "    <tr>\n",
       "      <td rowspan=\"2\" valign=\"top\">(150, 160]</td>\n",
       "      <td>0</td>\n",
       "      <td>5350.333333</td>\n",
       "      <td>20.333333</td>\n",
       "      <td>63.933333</td>\n",
       "      <td>158.266667</td>\n",
       "      <td>2.000000</td>\n",
       "    </tr>\n",
       "    <tr>\n",
       "      <td>1</td>\n",
       "      <td>5696.250000</td>\n",
       "      <td>21.687500</td>\n",
       "      <td>68.500000</td>\n",
       "      <td>158.250000</td>\n",
       "      <td>1.937500</td>\n",
       "    </tr>\n",
       "    <tr>\n",
       "      <td rowspan=\"2\" valign=\"top\">(160, 170]</td>\n",
       "      <td>0</td>\n",
       "      <td>4253.000000</td>\n",
       "      <td>16.175000</td>\n",
       "      <td>63.350000</td>\n",
       "      <td>166.400000</td>\n",
       "      <td>1.825000</td>\n",
       "    </tr>\n",
       "    <tr>\n",
       "      <td>1</td>\n",
       "      <td>4401.736111</td>\n",
       "      <td>16.750000</td>\n",
       "      <td>63.083333</td>\n",
       "      <td>167.097222</td>\n",
       "      <td>1.472222</td>\n",
       "    </tr>\n",
       "    <tr>\n",
       "      <td rowspan=\"2\" valign=\"top\">(170, 180]</td>\n",
       "      <td>0</td>\n",
       "      <td>4109.810811</td>\n",
       "      <td>15.648649</td>\n",
       "      <td>60.135135</td>\n",
       "      <td>175.918919</td>\n",
       "      <td>1.135135</td>\n",
       "    </tr>\n",
       "    <tr>\n",
       "      <td>1</td>\n",
       "      <td>4679.757143</td>\n",
       "      <td>17.814286</td>\n",
       "      <td>65.142857</td>\n",
       "      <td>176.285714</td>\n",
       "      <td>1.128571</td>\n",
       "    </tr>\n",
       "    <tr>\n",
       "      <td rowspan=\"2\" valign=\"top\">(180, 190]</td>\n",
       "      <td>0</td>\n",
       "      <td>3506.000000</td>\n",
       "      <td>13.125000</td>\n",
       "      <td>50.625000</td>\n",
       "      <td>184.375000</td>\n",
       "      <td>1.000000</td>\n",
       "    </tr>\n",
       "    <tr>\n",
       "      <td>1</td>\n",
       "      <td>4463.964286</td>\n",
       "      <td>16.821429</td>\n",
       "      <td>58.214286</td>\n",
       "      <td>183.571429</td>\n",
       "      <td>1.000000</td>\n",
       "    </tr>\n",
       "    <tr>\n",
       "      <td rowspan=\"2\" valign=\"top\">(190, 200]</td>\n",
       "      <td>0</td>\n",
       "      <td>NaN</td>\n",
       "      <td>NaN</td>\n",
       "      <td>NaN</td>\n",
       "      <td>NaN</td>\n",
       "      <td>NaN</td>\n",
       "    </tr>\n",
       "    <tr>\n",
       "      <td>1</td>\n",
       "      <td>5569.000000</td>\n",
       "      <td>21.250000</td>\n",
       "      <td>47.500000</td>\n",
       "      <td>194.250000</td>\n",
       "      <td>1.000000</td>\n",
       "    </tr>\n",
       "  </tbody>\n",
       "</table>\n",
       "</div>"
      ],
      "text/plain": [
       "                   labels    batches  Alter_bei_Studie  Groesse_cm  Geschlecht\n",
       "m_bins     y                                                                  \n",
       "(140, 150] 0          NaN        NaN               NaN         NaN         NaN\n",
       "           1  2372.500000   9.000000         69.500000  150.000000    2.000000\n",
       "(150, 160] 0  5350.333333  20.333333         63.933333  158.266667    2.000000\n",
       "           1  5696.250000  21.687500         68.500000  158.250000    1.937500\n",
       "(160, 170] 0  4253.000000  16.175000         63.350000  166.400000    1.825000\n",
       "           1  4401.736111  16.750000         63.083333  167.097222    1.472222\n",
       "(170, 180] 0  4109.810811  15.648649         60.135135  175.918919    1.135135\n",
       "           1  4679.757143  17.814286         65.142857  176.285714    1.128571\n",
       "(180, 190] 0  3506.000000  13.125000         50.625000  184.375000    1.000000\n",
       "           1  4463.964286  16.821429         58.214286  183.571429    1.000000\n",
       "(190, 200] 0          NaN        NaN               NaN         NaN         NaN\n",
       "           1  5569.000000  21.250000         47.500000  194.250000    1.000000"
      ]
     },
     "execution_count": 403,
     "metadata": {},
     "output_type": "execute_result"
    }
   ],
   "source": [
    "merged_df.groupby([\"m_bins\", \"y\"]).mean()"
   ]
  },
  {
   "cell_type": "markdown",
   "metadata": {},
   "source": [
    "## Geschlechter Vergleich\n",
    "\n",
    "> Keine Korrelation"
   ]
  },
  {
   "cell_type": "code",
   "execution_count": 410,
   "metadata": {},
   "outputs": [
    {
     "data": {
      "text/html": [
       "<div>\n",
       "<style scoped>\n",
       "    .dataframe tbody tr th:only-of-type {\n",
       "        vertical-align: middle;\n",
       "    }\n",
       "\n",
       "    .dataframe tbody tr th {\n",
       "        vertical-align: top;\n",
       "    }\n",
       "\n",
       "    .dataframe thead th {\n",
       "        text-align: right;\n",
       "    }\n",
       "</style>\n",
       "<table border=\"1\" class=\"dataframe\">\n",
       "  <thead>\n",
       "    <tr style=\"text-align: right;\">\n",
       "      <th></th>\n",
       "      <th></th>\n",
       "      <th>labels</th>\n",
       "      <th>batches</th>\n",
       "      <th>Alter_bei_Studie</th>\n",
       "      <th>Groesse_cm</th>\n",
       "    </tr>\n",
       "    <tr>\n",
       "      <th>Geschlecht</th>\n",
       "      <th>y</th>\n",
       "      <th></th>\n",
       "      <th></th>\n",
       "      <th></th>\n",
       "      <th></th>\n",
       "    </tr>\n",
       "  </thead>\n",
       "  <tbody>\n",
       "    <tr>\n",
       "      <td rowspan=\"2\" valign=\"top\">1</td>\n",
       "      <td>0</td>\n",
       "      <td>4114.680851</td>\n",
       "      <td>15.595745</td>\n",
       "      <td>61.319149</td>\n",
       "      <td>176.085106</td>\n",
       "    </tr>\n",
       "    <tr>\n",
       "      <td>1</td>\n",
       "      <td>4626.575758</td>\n",
       "      <td>17.583333</td>\n",
       "      <td>63.356061</td>\n",
       "      <td>175.992424</td>\n",
       "    </tr>\n",
       "    <tr>\n",
       "      <td rowspan=\"2\" valign=\"top\">2</td>\n",
       "      <td>0</td>\n",
       "      <td>4473.509434</td>\n",
       "      <td>17.037736</td>\n",
       "      <td>61.150943</td>\n",
       "      <td>164.867925</td>\n",
       "    </tr>\n",
       "    <tr>\n",
       "      <td>1</td>\n",
       "      <td>4615.866667</td>\n",
       "      <td>17.550000</td>\n",
       "      <td>63.233333</td>\n",
       "      <td>164.816667</td>\n",
       "    </tr>\n",
       "  </tbody>\n",
       "</table>\n",
       "</div>"
      ],
      "text/plain": [
       "                   labels    batches  Alter_bei_Studie  Groesse_cm\n",
       "Geschlecht y                                                      \n",
       "1          0  4114.680851  15.595745         61.319149  176.085106\n",
       "           1  4626.575758  17.583333         63.356061  175.992424\n",
       "2          0  4473.509434  17.037736         61.150943  164.867925\n",
       "           1  4615.866667  17.550000         63.233333  164.816667"
      ]
     },
     "execution_count": 410,
     "metadata": {},
     "output_type": "execute_result"
    }
   ],
   "source": [
    "merged_df.groupby([\"Geschlecht\", \"y\"]).mean()"
   ]
  }
 ],
 "metadata": {
  "kernelspec": {
   "display_name": "Python 3",
   "language": "python",
   "name": "python3"
  },
  "language_info": {
   "codemirror_mode": {
    "name": "ipython",
    "version": 3
   },
   "file_extension": ".py",
   "mimetype": "text/x-python",
   "name": "python",
   "nbconvert_exporter": "python",
   "pygments_lexer": "ipython3",
   "version": "3.7.4"
  }
 },
 "nbformat": 4,
 "nbformat_minor": 4
}
